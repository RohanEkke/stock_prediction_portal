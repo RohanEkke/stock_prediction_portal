{
 "cells": [
  {
   "cell_type": "code",
   "execution_count": 132,
   "id": "714c4d5d-cac5-47cb-99c6-7b2edce0a45f",
   "metadata": {},
   "outputs": [],
   "source": [
    "# core feature of numpy is query relatted to arrays\n",
    "import numpy as np"
   ]
  },
  {
   "cell_type": "markdown",
   "id": "f81f78d8-649d-488f-838b-7fcd1457a0a8",
   "metadata": {},
   "source": [
    "## Create & Read"
   ]
  },
  {
   "cell_type": "markdown",
   "id": "94467939-754f-476e-b3da-e2bb2868b071",
   "metadata": {},
   "source": [
    "#### 1D Array"
   ]
  },
  {
   "cell_type": "code",
   "execution_count": 133,
   "id": "05b7f47a-2024-44ec-bf9a-e3915fe7bffc",
   "metadata": {},
   "outputs": [
    {
     "data": {
      "text/plain": [
       "array([1, 2, 3, 4, 5])"
      ]
     },
     "execution_count": 133,
     "metadata": {},
     "output_type": "execute_result"
    }
   ],
   "source": [
    "arr1 = np.array([1, 2, 3, 4, 5])\n",
    "arr1"
   ]
  },
  {
   "cell_type": "code",
   "execution_count": 134,
   "id": "d823fad4-5c2e-44b4-ab27-0933168c26bd",
   "metadata": {},
   "outputs": [
    {
     "data": {
      "text/plain": [
       "numpy.ndarray"
      ]
     },
     "execution_count": 134,
     "metadata": {},
     "output_type": "execute_result"
    }
   ],
   "source": [
    "type(arr1)"
   ]
  },
  {
   "cell_type": "code",
   "execution_count": 135,
   "id": "c9d9e462-6622-4591-9a05-85a9cca6c41f",
   "metadata": {},
   "outputs": [
    {
     "data": {
      "text/plain": [
       "(5,)"
      ]
     },
     "execution_count": 135,
     "metadata": {},
     "output_type": "execute_result"
    }
   ],
   "source": [
    "arr1.shape"
   ]
  },
  {
   "cell_type": "code",
   "execution_count": 216,
   "id": "c1148b6d-32e3-49d3-a80e-0a8bcb2a47f9",
   "metadata": {},
   "outputs": [
    {
     "data": {
      "text/plain": [
       "dtype('int64')"
      ]
     },
     "execution_count": 216,
     "metadata": {},
     "output_type": "execute_result"
    }
   ],
   "source": [
    "arr1.dtype"
   ]
  },
  {
   "cell_type": "code",
   "execution_count": 137,
   "id": "6853fe7a-281b-4a16-94b1-86595fcbab87",
   "metadata": {},
   "outputs": [
    {
     "data": {
      "text/plain": [
       "1"
      ]
     },
     "execution_count": 137,
     "metadata": {},
     "output_type": "execute_result"
    }
   ],
   "source": [
    "# Which dimentional array\n",
    "arr1.ndim"
   ]
  },
  {
   "cell_type": "code",
   "execution_count": 138,
   "id": "956d9d32-cd6d-4284-b445-cd142e74da6c",
   "metadata": {},
   "outputs": [
    {
     "data": {
      "text/plain": [
       "5"
      ]
     },
     "execution_count": 138,
     "metadata": {},
     "output_type": "execute_result"
    }
   ],
   "source": [
    "arr1.size"
   ]
  },
  {
   "cell_type": "markdown",
   "id": "5b890437-f402-4b98-81c2-7de5e0b1547b",
   "metadata": {},
   "source": [
    "#### 2D Array"
   ]
  },
  {
   "cell_type": "code",
   "execution_count": 139,
   "id": "ef3b65ce-a4d6-4764-b390-55d78accd68b",
   "metadata": {},
   "outputs": [
    {
     "data": {
      "text/plain": [
       "array([[1, 4, 5],\n",
       "       [6, 7, 8]])"
      ]
     },
     "execution_count": 139,
     "metadata": {},
     "output_type": "execute_result"
    }
   ],
   "source": [
    "arr2 = np.array([[1, 4, 5], [6, 7, 8]])\n",
    "arr2"
   ]
  },
  {
   "cell_type": "code",
   "execution_count": 140,
   "id": "cc1970a2-e90c-42b5-9644-2233ca3d47a2",
   "metadata": {},
   "outputs": [
    {
     "data": {
      "text/plain": [
       "2"
      ]
     },
     "execution_count": 140,
     "metadata": {},
     "output_type": "execute_result"
    }
   ],
   "source": [
    "arr2.ndim"
   ]
  },
  {
   "cell_type": "code",
   "execution_count": 141,
   "id": "abad1875-1336-4bfa-8736-18b2fbbb40c5",
   "metadata": {},
   "outputs": [
    {
     "data": {
      "text/plain": [
       "(2, 3)"
      ]
     },
     "execution_count": 141,
     "metadata": {},
     "output_type": "execute_result"
    }
   ],
   "source": [
    "arr2.shape # (row, colum)"
   ]
  },
  {
   "cell_type": "code",
   "execution_count": 142,
   "id": "0ea8bafe-c5dd-4b96-8ef3-80bf02c06259",
   "metadata": {},
   "outputs": [
    {
     "data": {
      "text/plain": [
       "dtype('int64')"
      ]
     },
     "execution_count": 142,
     "metadata": {},
     "output_type": "execute_result"
    }
   ],
   "source": [
    "arr2.dtype"
   ]
  },
  {
   "cell_type": "code",
   "execution_count": 143,
   "id": "3a50b50d-704f-4591-9ba6-9ef8446d21bc",
   "metadata": {},
   "outputs": [
    {
     "data": {
      "text/plain": [
       "6"
      ]
     },
     "execution_count": 143,
     "metadata": {},
     "output_type": "execute_result"
    }
   ],
   "source": [
    "arr2.size"
   ]
  },
  {
   "cell_type": "markdown",
   "id": "a83b3a54-2eb1-43e5-b2cf-615a93bd5d3a",
   "metadata": {},
   "source": [
    "#### 3D Array"
   ]
  },
  {
   "cell_type": "code",
   "execution_count": 144,
   "id": "cc5970c2-90fc-4f60-a2c6-a5e574c6f6cd",
   "metadata": {},
   "outputs": [
    {
     "data": {
      "text/plain": [
       "array([[[ 1,  2,  3],\n",
       "        [ 4,  5,  6]],\n",
       "\n",
       "       [[ 7,  8,  9],\n",
       "        [10, 11, 12]]])"
      ]
     },
     "execution_count": 144,
     "metadata": {},
     "output_type": "execute_result"
    }
   ],
   "source": [
    "arr3 = np.array([[[1, 2, 3], [4, 5, 6]], [[7, 8, 9], [10, 11, 12]]])\n",
    "arr3"
   ]
  },
  {
   "cell_type": "code",
   "execution_count": 145,
   "id": "dd9a3db3-e509-4cc1-a9b7-1377a7993104",
   "metadata": {},
   "outputs": [
    {
     "data": {
      "text/plain": [
       "3"
      ]
     },
     "execution_count": 145,
     "metadata": {},
     "output_type": "execute_result"
    }
   ],
   "source": [
    "arr3.ndim"
   ]
  },
  {
   "cell_type": "code",
   "execution_count": 146,
   "id": "02f84227-645d-4a28-a807-bc1c65a9e05e",
   "metadata": {},
   "outputs": [
    {
     "data": {
      "text/plain": [
       "(2, 2, 3)"
      ]
     },
     "execution_count": 146,
     "metadata": {},
     "output_type": "execute_result"
    }
   ],
   "source": [
    "# (Represents the number of \"layers\" or \"blocks\" in the array,\n",
    "# The horizontal arrangement within each layer,\n",
    "# The vertical arrangement within each layer)\n",
    "arr3.shape"
   ]
  },
  {
   "cell_type": "code",
   "execution_count": 147,
   "id": "60a9693e-a918-49fa-a3fc-378301663806",
   "metadata": {},
   "outputs": [
    {
     "data": {
      "text/plain": [
       "12"
      ]
     },
     "execution_count": 147,
     "metadata": {},
     "output_type": "execute_result"
    }
   ],
   "source": [
    "# No. of elements in array\n",
    "arr3.size"
   ]
  },
  {
   "cell_type": "markdown",
   "id": "c4891929-2fb9-47f1-8544-1737a7c58afd",
   "metadata": {},
   "source": [
    "### Create random array"
   ]
  },
  {
   "cell_type": "code",
   "execution_count": 148,
   "id": "06da03aa-025b-4f40-b3a4-50995169aed2",
   "metadata": {},
   "outputs": [],
   "source": [
    "randomArr = np.random.rand(3, 2, 3)"
   ]
  },
  {
   "cell_type": "code",
   "execution_count": 149,
   "id": "500d17ec-4946-4dc3-8674-6d14d3830b13",
   "metadata": {},
   "outputs": [
    {
     "data": {
      "text/plain": [
       "array([[[0.27995063, 0.96524897, 0.89423192],\n",
       "        [0.45592342, 0.42664558, 0.12253636]],\n",
       "\n",
       "       [[0.180709  , 0.77771246, 0.62175705],\n",
       "        [0.20427699, 0.20340589, 0.53240064]],\n",
       "\n",
       "       [[0.87782695, 0.98985078, 0.74835479],\n",
       "        [0.066228  , 0.93136181, 0.6270163 ]]])"
      ]
     },
     "execution_count": 149,
     "metadata": {},
     "output_type": "execute_result"
    }
   ],
   "source": [
    "randomArr"
   ]
  },
  {
   "cell_type": "code",
   "execution_count": 150,
   "id": "cf9be61c-523f-416a-a4d8-cc5cabf26521",
   "metadata": {},
   "outputs": [
    {
     "data": {
      "text/plain": [
       "dtype('float64')"
      ]
     },
     "execution_count": 150,
     "metadata": {},
     "output_type": "execute_result"
    }
   ],
   "source": [
    "randomArr.dtype"
   ]
  },
  {
   "cell_type": "code",
   "execution_count": 151,
   "id": "804b48c0-8be4-4fc7-b922-8f3ef5a78cc8",
   "metadata": {},
   "outputs": [
    {
     "data": {
      "text/plain": [
       "array([[[0., 0., 0.],\n",
       "        [0., 0., 0.]],\n",
       "\n",
       "       [[0., 0., 0.],\n",
       "        [0., 0., 0.]],\n",
       "\n",
       "       [[0., 0., 0.],\n",
       "        [0., 0., 0.]]])"
      ]
     },
     "execution_count": 151,
     "metadata": {},
     "output_type": "execute_result"
    }
   ],
   "source": [
    "zerosArr = np.zeros((3, 2, 3))\n",
    "zerosArr"
   ]
  },
  {
   "cell_type": "code",
   "execution_count": 152,
   "id": "e05be980-b54d-4ca5-8cdc-fb9c5f21fca0",
   "metadata": {},
   "outputs": [
    {
     "data": {
      "text/plain": [
       "array([[[5, 5, 5],\n",
       "        [5, 5, 5]],\n",
       "\n",
       "       [[5, 5, 5],\n",
       "        [5, 5, 5]],\n",
       "\n",
       "       [[5, 5, 5],\n",
       "        [5, 5, 5]]])"
      ]
     },
     "execution_count": 152,
     "metadata": {},
     "output_type": "execute_result"
    }
   ],
   "source": [
    "full = np.full((3, 2, 3), 5)\n",
    "full"
   ]
  },
  {
   "cell_type": "code",
   "execution_count": 153,
   "id": "325558b0-2503-4aec-98d9-82d74b70355c",
   "metadata": {},
   "outputs": [
    {
     "data": {
      "text/plain": [
       "array([[[1., 1., 1.],\n",
       "        [1., 1., 1.]],\n",
       "\n",
       "       [[1., 1., 1.],\n",
       "        [1., 1., 1.]],\n",
       "\n",
       "       [[1., 1., 1.],\n",
       "        [1., 1., 1.]]])"
      ]
     },
     "execution_count": 153,
     "metadata": {},
     "output_type": "execute_result"
    }
   ],
   "source": [
    "ones = np.ones((3, 2, 3))\n",
    "ones"
   ]
  },
  {
   "cell_type": "code",
   "execution_count": null,
   "id": "b4a8e2a2-3d03-4cb4-8655-88163a44653e",
   "metadata": {},
   "outputs": [],
   "source": []
  },
  {
   "cell_type": "code",
   "execution_count": 154,
   "id": "42c4c071-0822-4ea0-b645-3f43fa9af9db",
   "metadata": {},
   "outputs": [
    {
     "data": {
      "text/plain": [
       "array([[[ 1,  2,  3],\n",
       "        [ 4,  5,  6]],\n",
       "\n",
       "       [[ 7,  8,  9],\n",
       "        [10, 11, 12]]])"
      ]
     },
     "execution_count": 154,
     "metadata": {},
     "output_type": "execute_result"
    }
   ],
   "source": [
    "arr3"
   ]
  },
  {
   "cell_type": "code",
   "execution_count": 155,
   "id": "bfe4aea2-a0c0-47ce-9dc3-814ca0803d58",
   "metadata": {},
   "outputs": [
    {
     "data": {
      "text/plain": [
       "array([[1, 2, 3],\n",
       "       [4, 5, 6]])"
      ]
     },
     "execution_count": 155,
     "metadata": {},
     "output_type": "execute_result"
    }
   ],
   "source": [
    "arr3[0]"
   ]
  },
  {
   "cell_type": "code",
   "execution_count": 156,
   "id": "4b5b5c08-90a8-47b4-80e9-c05d1fbb3370",
   "metadata": {},
   "outputs": [
    {
     "data": {
      "text/plain": [
       "array([1, 2, 3])"
      ]
     },
     "execution_count": 156,
     "metadata": {},
     "output_type": "execute_result"
    }
   ],
   "source": [
    "arr3[0][0]"
   ]
  },
  {
   "cell_type": "code",
   "execution_count": 157,
   "id": "1805cc16-4ba5-4b4e-ac97-166f8359e602",
   "metadata": {},
   "outputs": [
    {
     "data": {
      "text/plain": [
       "np.int64(1)"
      ]
     },
     "execution_count": 157,
     "metadata": {},
     "output_type": "execute_result"
    }
   ],
   "source": [
    "arr3[0][0][0]"
   ]
  },
  {
   "cell_type": "code",
   "execution_count": 158,
   "id": "919315e1-76b6-43a7-96bd-8b94eb49714d",
   "metadata": {},
   "outputs": [
    {
     "data": {
      "text/plain": [
       "array([[[ 1,  2,  3],\n",
       "        [ 4,  5,  6]],\n",
       "\n",
       "       [[ 7,  8,  9],\n",
       "        [10, 11, 12]]])"
      ]
     },
     "execution_count": 158,
     "metadata": {},
     "output_type": "execute_result"
    }
   ],
   "source": [
    "arr3[0:2] # zero to two (0, 1)"
   ]
  },
  {
   "cell_type": "code",
   "execution_count": 159,
   "id": "200d7f90-240e-496a-a5fe-90f4b4eea55c",
   "metadata": {},
   "outputs": [
    {
     "data": {
      "text/plain": [
       "array([[ 7,  8,  9],\n",
       "       [10, 11, 12]])"
      ]
     },
     "execution_count": 159,
     "metadata": {},
     "output_type": "execute_result"
    }
   ],
   "source": [
    "arr3[-1] # last"
   ]
  },
  {
   "cell_type": "code",
   "execution_count": 160,
   "id": "996fbe76-4fda-4eb1-a963-7da50f79282b",
   "metadata": {},
   "outputs": [
    {
     "data": {
      "text/plain": [
       "np.int64(9)"
      ]
     },
     "execution_count": 160,
     "metadata": {},
     "output_type": "execute_result"
    }
   ],
   "source": [
    "# target perticular element\n",
    "arr3[1][0][2] # second block, first row, third element"
   ]
  },
  {
   "cell_type": "code",
   "execution_count": 161,
   "id": "fbc61e38-42b6-439a-9004-d0e914f955cc",
   "metadata": {},
   "outputs": [
    {
     "data": {
      "text/plain": [
       "np.int64(9)"
      ]
     },
     "execution_count": 161,
     "metadata": {},
     "output_type": "execute_result"
    }
   ],
   "source": [
    "arr3[1, 0, 2]"
   ]
  },
  {
   "cell_type": "code",
   "execution_count": null,
   "id": "c56bb071-2da4-4494-8c40-637e9c3f8b1e",
   "metadata": {},
   "outputs": [],
   "source": []
  },
  {
   "cell_type": "markdown",
   "id": "3405071b-ef6f-45c7-a294-318110b71e8c",
   "metadata": {},
   "source": [
    "### Update & delete"
   ]
  },
  {
   "cell_type": "code",
   "execution_count": 162,
   "id": "22127e48-d5e0-4230-9545-f4e1e7766db5",
   "metadata": {},
   "outputs": [],
   "source": [
    "a1 = np.random.rand(2, 3, 2)\n",
    "a2 = np.random.rand(2, 3, 2)"
   ]
  },
  {
   "cell_type": "code",
   "execution_count": 163,
   "id": "bae75768-a8ff-48c6-84aa-11acebe90356",
   "metadata": {},
   "outputs": [
    {
     "data": {
      "text/plain": [
       "array([[[0.85697465, 0.55841057],\n",
       "        [0.37537211, 0.66043347],\n",
       "        [0.28689994, 0.66379647]],\n",
       "\n",
       "       [[0.71663777, 0.59941693],\n",
       "        [0.23550497, 0.18492077],\n",
       "        [0.52506493, 0.60456391]]])"
      ]
     },
     "execution_count": 163,
     "metadata": {},
     "output_type": "execute_result"
    }
   ],
   "source": [
    "a1"
   ]
  },
  {
   "cell_type": "code",
   "execution_count": 164,
   "id": "82a136e5-5699-40a7-8a8f-b8d15defd00c",
   "metadata": {},
   "outputs": [
    {
     "data": {
      "text/plain": [
       "array([[[0.56980772, 0.53708354],\n",
       "        [0.50818068, 0.16666172],\n",
       "        [0.60355004, 0.93004068]],\n",
       "\n",
       "       [[0.60063718, 0.76877602],\n",
       "        [0.25346331, 0.47819336],\n",
       "        [0.93665427, 0.01926579]]])"
      ]
     },
     "execution_count": 164,
     "metadata": {},
     "output_type": "execute_result"
    }
   ],
   "source": [
    "a2"
   ]
  },
  {
   "cell_type": "markdown",
   "id": "885505e1-c9be-4d72-8de0-5d6df2dbfd11",
   "metadata": {},
   "source": [
    "#### Basic math operations"
   ]
  },
  {
   "cell_type": "code",
   "execution_count": 165,
   "id": "38ea9821-fccd-40ee-a6d9-88af8abf9ee2",
   "metadata": {},
   "outputs": [
    {
     "data": {
      "text/plain": [
       "array([[[1.42678237, 1.09549411],\n",
       "        [0.8835528 , 0.82709519],\n",
       "        [0.89044998, 1.59383715]],\n",
       "\n",
       "       [[1.31727495, 1.36819295],\n",
       "        [0.48896828, 0.66311413],\n",
       "        [1.46171919, 0.6238297 ]]])"
      ]
     },
     "execution_count": 165,
     "metadata": {},
     "output_type": "execute_result"
    }
   ],
   "source": [
    "np.add(a1, a2)"
   ]
  },
  {
   "cell_type": "code",
   "execution_count": 166,
   "id": "6493accc-6f52-4571-afb5-eac9304f2952",
   "metadata": {},
   "outputs": [
    {
     "data": {
      "text/plain": [
       "array([[[ 0.28716693,  0.02132703],\n",
       "        [-0.13280857,  0.49377176],\n",
       "        [-0.3166501 , -0.26624421]],\n",
       "\n",
       "       [[ 0.1160006 , -0.16935909],\n",
       "        [-0.01795835, -0.29327259],\n",
       "        [-0.41158934,  0.58529812]]])"
      ]
     },
     "execution_count": 166,
     "metadata": {},
     "output_type": "execute_result"
    }
   ],
   "source": [
    "np.subtract(a1, a2)"
   ]
  },
  {
   "cell_type": "code",
   "execution_count": 167,
   "id": "ea092ba7-a5b9-48bf-9df4-089fd8998ba6",
   "metadata": {},
   "outputs": [
    {
     "data": {
      "text/plain": [
       "array([[[ 1.50397163,  1.03970896],\n",
       "        [ 0.73865876,  3.96271855],\n",
       "        [ 0.47535403,  0.71372842]],\n",
       "\n",
       "       [[ 1.19312923,  0.77970295],\n",
       "        [ 0.92914815,  0.3867071 ],\n",
       "        [ 0.56057496, 31.38017287]]])"
      ]
     },
     "execution_count": 167,
     "metadata": {},
     "output_type": "execute_result"
    }
   ],
   "source": [
    "np.divide(a1, a2)"
   ]
  },
  {
   "cell_type": "code",
   "execution_count": 168,
   "id": "58af6432-e2b3-4d41-bf45-0436cf91ff3b",
   "metadata": {},
   "outputs": [
    {
     "data": {
      "text/plain": [
       "array([[[0.48831077, 0.29991312],\n",
       "        [0.19075686, 0.11006898],\n",
       "        [0.17315847, 0.61735772]],\n",
       "\n",
       "       [[0.43043929, 0.46081736],\n",
       "        [0.05969187, 0.08842789],\n",
       "        [0.4918043 , 0.0116474 ]]])"
      ]
     },
     "execution_count": 168,
     "metadata": {},
     "output_type": "execute_result"
    }
   ],
   "source": [
    "np.multiply(a1, a2)"
   ]
  },
  {
   "cell_type": "markdown",
   "id": "eba72dcb-43ce-4891-a160-a3f9d158bdb7",
   "metadata": {},
   "source": [
    "#### Stastical Operations"
   ]
  },
  {
   "cell_type": "code",
   "execution_count": 169,
   "id": "5c9ba99c-57d7-4705-91e4-976775dae444",
   "metadata": {},
   "outputs": [],
   "source": [
    "sqrt = np.sqrt(25)\n",
    "abss = np.abs(-2)\n",
    "power = np.power(2, 8)\n",
    "log = np.log(25)\n",
    "mins = np.min(a1)\n",
    "maxs = np.max(a2)"
   ]
  },
  {
   "cell_type": "code",
   "execution_count": 170,
   "id": "9c4aed59-d0cd-4069-89f3-8076c80a0173",
   "metadata": {},
   "outputs": [
    {
     "data": {
      "text/plain": [
       "np.float64(5.0)"
      ]
     },
     "execution_count": 170,
     "metadata": {},
     "output_type": "execute_result"
    }
   ],
   "source": [
    "sqrt # squareroot of 25"
   ]
  },
  {
   "cell_type": "code",
   "execution_count": 171,
   "id": "7f46b641-bec7-41a7-ab27-365ab332f144",
   "metadata": {},
   "outputs": [
    {
     "data": {
      "text/plain": [
       "np.int64(2)"
      ]
     },
     "execution_count": 171,
     "metadata": {},
     "output_type": "execute_result"
    }
   ],
   "source": [
    "abss # only positive integer or absolute value"
   ]
  },
  {
   "cell_type": "code",
   "execution_count": 172,
   "id": "de68fc31-f5d9-4689-bf7c-e33445dbabe4",
   "metadata": {},
   "outputs": [
    {
     "data": {
      "text/plain": [
       "np.int64(256)"
      ]
     },
     "execution_count": 172,
     "metadata": {},
     "output_type": "execute_result"
    }
   ],
   "source": [
    "power # 2 to the power of 8"
   ]
  },
  {
   "cell_type": "code",
   "execution_count": 173,
   "id": "2e281a9e-82e9-46a7-a58c-d244486953d6",
   "metadata": {},
   "outputs": [
    {
     "data": {
      "text/plain": [
       "np.float64(3.2188758248682006)"
      ]
     },
     "execution_count": 173,
     "metadata": {},
     "output_type": "execute_result"
    }
   ],
   "source": [
    "log # log of 25"
   ]
  },
  {
   "cell_type": "code",
   "execution_count": 174,
   "id": "6b2c4066-7413-43fa-b547-6ecc4679e5aa",
   "metadata": {},
   "outputs": [
    {
     "data": {
      "text/plain": [
       "np.float64(0.18492077086621383)"
      ]
     },
     "execution_count": 174,
     "metadata": {},
     "output_type": "execute_result"
    }
   ],
   "source": [
    "mins # minimum or the lowest value from the array a1"
   ]
  },
  {
   "cell_type": "code",
   "execution_count": 175,
   "id": "7e7d6598-81da-4460-8efe-2f4cfa88bc1b",
   "metadata": {},
   "outputs": [
    {
     "data": {
      "text/plain": [
       "np.float64(0.93665426535938)"
      ]
     },
     "execution_count": 175,
     "metadata": {},
     "output_type": "execute_result"
    }
   ],
   "source": [
    "maxs # maimum or the biggest value from the array a2"
   ]
  },
  {
   "cell_type": "markdown",
   "id": "fba4ed8f-2731-44fe-81dd-76f1ba894111",
   "metadata": {},
   "source": [
    "#### Update"
   ]
  },
  {
   "cell_type": "code",
   "execution_count": 176,
   "id": "1945a805-2435-4188-920e-64c20770753b",
   "metadata": {},
   "outputs": [
    {
     "data": {
      "text/plain": [
       "array([[[ 1,  2,  3],\n",
       "        [ 4,  5,  6]],\n",
       "\n",
       "       [[ 7,  8,  9],\n",
       "        [10, 11, 12]]])"
      ]
     },
     "execution_count": 176,
     "metadata": {},
     "output_type": "execute_result"
    }
   ],
   "source": [
    "arr3"
   ]
  },
  {
   "cell_type": "code",
   "execution_count": 177,
   "id": "b26bddd1-01d8-46a8-9292-37e44e630b4b",
   "metadata": {},
   "outputs": [
    {
     "data": {
      "text/plain": [
       "array([[[  1,   2, 500],\n",
       "        [  4,   5,   6]],\n",
       "\n",
       "       [[  7,   8,   9],\n",
       "        [ 10,  11,  12]]])"
      ]
     },
     "execution_count": 177,
     "metadata": {},
     "output_type": "execute_result"
    }
   ],
   "source": [
    "# firstly target the element and write the replace value\n",
    "arr3[0, 0, 2] = 500\n",
    "arr3"
   ]
  },
  {
   "cell_type": "code",
   "execution_count": 178,
   "id": "af9f7201-0b7e-4cd3-bb4d-0252c28d9110",
   "metadata": {},
   "outputs": [
    {
     "data": {
      "text/plain": [
       "array([[[  1,   2, 500],\n",
       "        [  4,   5,   6]],\n",
       "\n",
       "       [[  7,   8,   9],\n",
       "        [ 10,  11,  12]]])"
      ]
     },
     "execution_count": 178,
     "metadata": {},
     "output_type": "execute_result"
    }
   ],
   "source": [
    "# from lowest value to biggest\n",
    "arr3.sort()\n",
    "arr3"
   ]
  },
  {
   "cell_type": "code",
   "execution_count": 179,
   "id": "62ab63eb-66a9-4cc5-8886-bdd75a1fa6a7",
   "metadata": {},
   "outputs": [
    {
     "data": {
      "text/plain": [
       "array([[[  1,   2, 500],\n",
       "        [  4,   5,   6]],\n",
       "\n",
       "       [[  7,   8,   9],\n",
       "        [ 10,  11,  12]]])"
      ]
     },
     "execution_count": 179,
     "metadata": {},
     "output_type": "execute_result"
    }
   ],
   "source": [
    "arr3"
   ]
  },
  {
   "cell_type": "code",
   "execution_count": 180,
   "id": "faa025aa-f2fc-4be8-8252-4a99b2721501",
   "metadata": {},
   "outputs": [
    {
     "data": {
      "text/plain": [
       "(2, 2, 3)"
      ]
     },
     "execution_count": 180,
     "metadata": {},
     "output_type": "execute_result"
    }
   ],
   "source": [
    "arr3.shape"
   ]
  },
  {
   "cell_type": "code",
   "execution_count": 181,
   "id": "c29a1324-e429-4b28-82b3-dc1459ff3932",
   "metadata": {},
   "outputs": [
    {
     "data": {
      "text/plain": [
       "array([[[  1,   2],\n",
       "        [500,   4],\n",
       "        [  5,   6]],\n",
       "\n",
       "       [[  7,   8],\n",
       "        [  9,  10],\n",
       "        [ 11,  12]]])"
      ]
     },
     "execution_count": 181,
     "metadata": {},
     "output_type": "execute_result"
    }
   ],
   "source": [
    "reshape_arr = arr3.reshape(2, 3, 2)\n",
    "reshape_arr"
   ]
  },
  {
   "cell_type": "markdown",
   "id": "40600392-aad0-49d8-b11a-d762f1e838e7",
   "metadata": {},
   "source": [
    "#### Apending & inserting"
   ]
  },
  {
   "cell_type": "code",
   "execution_count": 183,
   "id": "77a11059-2bba-4194-b358-055403eb8e69",
   "metadata": {},
   "outputs": [
    {
     "data": {
      "text/plain": [
       "array([[[0., 0., 0.],\n",
       "        [0., 0., 0.]],\n",
       "\n",
       "       [[0., 0., 0.],\n",
       "        [0., 0., 0.]],\n",
       "\n",
       "       [[0., 0., 0.],\n",
       "        [0., 0., 0.]]])"
      ]
     },
     "execution_count": 183,
     "metadata": {},
     "output_type": "execute_result"
    }
   ],
   "source": [
    "zerosArr"
   ]
  },
  {
   "cell_type": "code",
   "execution_count": 189,
   "id": "fe0117c5-e2b0-4f79-a802-a1263b41d68e",
   "metadata": {},
   "outputs": [
    {
     "data": {
      "text/plain": [
       "array([[[1., 1., 1.],\n",
       "        [1., 1., 1.]],\n",
       "\n",
       "       [[1., 1., 1.],\n",
       "        [1., 1., 1.]],\n",
       "\n",
       "       [[1., 1., 1.],\n",
       "        [1., 1., 1.]]])"
      ]
     },
     "execution_count": 189,
     "metadata": {},
     "output_type": "execute_result"
    }
   ],
   "source": [
    "onceArr = np.ones((3,2,3))\n",
    "onceArr"
   ]
  },
  {
   "cell_type": "code",
   "execution_count": 192,
   "id": "dab55b47-596b-4f40-b8f7-78c2078827e6",
   "metadata": {},
   "outputs": [
    {
     "data": {
      "text/plain": [
       "array([[[0., 0., 0.],\n",
       "        [0., 0., 0.]],\n",
       "\n",
       "       [[0., 0., 0.],\n",
       "        [0., 0., 0.]],\n",
       "\n",
       "       [[0., 0., 0.],\n",
       "        [0., 0., 0.]],\n",
       "\n",
       "       [[1., 1., 1.],\n",
       "        [1., 1., 1.]],\n",
       "\n",
       "       [[1., 1., 1.],\n",
       "        [1., 1., 1.]],\n",
       "\n",
       "       [[1., 1., 1.],\n",
       "        [1., 1., 1.]]])"
      ]
     },
     "execution_count": 192,
     "metadata": {},
     "output_type": "execute_result"
    }
   ],
   "source": [
    "appd = np.append(zerosArr, onceArr, axis=0) # axis 0 is row & axis 1 is colum\n",
    "appd"
   ]
  },
  {
   "cell_type": "code",
   "execution_count": 193,
   "id": "0f967337-38c7-4330-a1e5-35298e0d4859",
   "metadata": {},
   "outputs": [],
   "source": [
    "# Insert"
   ]
  },
  {
   "cell_type": "code",
   "execution_count": 195,
   "id": "bc1f2bea-7f62-4316-b510-828b3138b4d9",
   "metadata": {},
   "outputs": [
    {
     "data": {
      "text/plain": [
       "array([[[0., 0., 0.],\n",
       "        [0., 0., 0.]],\n",
       "\n",
       "       [[0., 0., 0.],\n",
       "        [0., 0., 0.]],\n",
       "\n",
       "       [[0., 0., 0.],\n",
       "        [0., 0., 0.]]])"
      ]
     },
     "execution_count": 195,
     "metadata": {},
     "output_type": "execute_result"
    }
   ],
   "source": [
    "zerosArr"
   ]
  },
  {
   "cell_type": "code",
   "execution_count": 196,
   "id": "a80bbe2f-e7e5-4fc3-b325-4fa687a49aff",
   "metadata": {},
   "outputs": [
    {
     "data": {
      "text/plain": [
       "array([[[1., 1., 1.],\n",
       "        [1., 1., 1.]],\n",
       "\n",
       "       [[1., 1., 1.],\n",
       "        [1., 1., 1.]],\n",
       "\n",
       "       [[1., 1., 1.],\n",
       "        [1., 1., 1.]]])"
      ]
     },
     "execution_count": 196,
     "metadata": {},
     "output_type": "execute_result"
    }
   ],
   "source": [
    "onceArr"
   ]
  },
  {
   "cell_type": "code",
   "execution_count": 199,
   "id": "3875916f-2f72-4792-8e8d-6591594340bb",
   "metadata": {},
   "outputs": [
    {
     "data": {
      "text/plain": [
       "array([[[0., 0., 0.],\n",
       "        [0., 0., 0.]],\n",
       "\n",
       "       [[1., 1., 1.],\n",
       "        [1., 1., 1.]],\n",
       "\n",
       "       [[1., 1., 1.],\n",
       "        [1., 1., 1.]],\n",
       "\n",
       "       [[1., 1., 1.],\n",
       "        [1., 1., 1.]],\n",
       "\n",
       "       [[0., 0., 0.],\n",
       "        [0., 0., 0.]],\n",
       "\n",
       "       [[0., 0., 0.],\n",
       "        [0., 0., 0.]]])"
      ]
     },
     "execution_count": 199,
     "metadata": {},
     "output_type": "execute_result"
    }
   ],
   "source": [
    "insert = np.insert(zerosArr, 1, onceArr, axis=0) \n",
    "# 1 represent the place where we have to insert array, 1 means we have to insert array after 0th block that means 1th block\n",
    "insert"
   ]
  },
  {
   "cell_type": "markdown",
   "id": "309961f6-7d22-4991-9e6c-32a4814cd670",
   "metadata": {},
   "source": [
    "### Delete"
   ]
  },
  {
   "cell_type": "code",
   "execution_count": 202,
   "id": "e24ebb4c-57fb-473e-bccf-29af170f315e",
   "metadata": {},
   "outputs": [
    {
     "data": {
      "text/plain": [
       "array([[[0.87003891, 0.87261837, 0.5264788 ],\n",
       "        [0.43530174, 0.7667535 , 0.79850348]],\n",
       "\n",
       "       [[0.07986093, 0.97813769, 0.82449492],\n",
       "        [0.42571181, 0.72014539, 0.49833243]],\n",
       "\n",
       "       [[0.25698265, 0.84637269, 0.34510365],\n",
       "        [0.7125469 , 0.25128195, 0.85697315]]])"
      ]
     },
     "execution_count": 202,
     "metadata": {},
     "output_type": "execute_result"
    }
   ],
   "source": [
    "newArr = np.random.rand(3,2,3)\n",
    "newArr"
   ]
  },
  {
   "cell_type": "code",
   "execution_count": 203,
   "id": "fc7b7801-7b69-4dad-a0dc-01cb1b83724a",
   "metadata": {},
   "outputs": [],
   "source": [
    "# delete the array"
   ]
  },
  {
   "cell_type": "code",
   "execution_count": 206,
   "id": "6eb4b044-143f-4253-9dcb-3defdfd5039e",
   "metadata": {},
   "outputs": [
    {
     "data": {
      "text/plain": [
       "array([[[0.43530174, 0.7667535 , 0.79850348]],\n",
       "\n",
       "       [[0.42571181, 0.72014539, 0.49833243]],\n",
       "\n",
       "       [[0.7125469 , 0.25128195, 0.85697315]]])"
      ]
     },
     "execution_count": 206,
     "metadata": {},
     "output_type": "execute_result"
    }
   ],
   "source": [
    "arrNew = np.delete(newArr, 0, axis=1) # 1st row of all block deleted\n",
    "arrNew"
   ]
  },
  {
   "cell_type": "code",
   "execution_count": 210,
   "id": "87835946-def5-41e7-a965-9ecf4ffc599c",
   "metadata": {},
   "outputs": [],
   "source": [
    "# Save array in seperate file\n",
    "np.save('newArray', arrNew)"
   ]
  },
  {
   "cell_type": "code",
   "execution_count": 211,
   "id": "4fc3aa88-5c93-435e-8cff-34e3bda485b6",
   "metadata": {},
   "outputs": [
    {
     "data": {
      "text/plain": [
       "array([[[0.43530174, 0.7667535 , 0.79850348]],\n",
       "\n",
       "       [[0.42571181, 0.72014539, 0.49833243]],\n",
       "\n",
       "       [[0.7125469 , 0.25128195, 0.85697315]]])"
      ]
     },
     "execution_count": 211,
     "metadata": {},
     "output_type": "execute_result"
    }
   ],
   "source": [
    "# load the file\n",
    "np.load('newArray.npy')"
   ]
  },
  {
   "cell_type": "code",
   "execution_count": null,
   "id": "6c36246c-a0e6-477c-8c76-ce80a028b369",
   "metadata": {},
   "outputs": [],
   "source": []
  }
 ],
 "metadata": {
  "kernelspec": {
   "display_name": "Python 3 (ipykernel)",
   "language": "python",
   "name": "python3"
  },
  "language_info": {
   "codemirror_mode": {
    "name": "ipython",
    "version": 3
   },
   "file_extension": ".py",
   "mimetype": "text/x-python",
   "name": "python",
   "nbconvert_exporter": "python",
   "pygments_lexer": "ipython3",
   "version": "3.11.9"
  }
 },
 "nbformat": 4,
 "nbformat_minor": 5
}
